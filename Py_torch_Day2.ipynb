{
  "nbformat": 4,
  "nbformat_minor": 0,
  "metadata": {
    "colab": {
      "provenance": [],
      "authorship_tag": "ABX9TyMB58nDflelfoP4NVfCt/bR",
      "include_colab_link": true
    },
    "kernelspec": {
      "name": "python3",
      "display_name": "Python 3"
    },
    "language_info": {
      "name": "python"
    }
  },
  "cells": [
    {
      "cell_type": "markdown",
      "metadata": {
        "id": "view-in-github",
        "colab_type": "text"
      },
      "source": [
        "<a href=\"https://colab.research.google.com/github/Raj3000end/Pytorch/blob/main/Py_torch_Day2.ipynb\" target=\"_parent\"><img src=\"https://colab.research.google.com/assets/colab-badge.svg\" alt=\"Open In Colab\"/></a>"
      ]
    },
    {
      "cell_type": "code",
      "source": [
        "import torch"
      ],
      "metadata": {
        "id": "UmTtLjfBm2bR"
      },
      "execution_count": 1,
      "outputs": []
    },
    {
      "cell_type": "code",
      "execution_count": 2,
      "metadata": {
        "colab": {
          "base_uri": "https://localhost:8080/"
        },
        "id": "Vk1_nBFQmqez",
        "outputId": "4655eaff-eb5c-4e3e-fd9f-526fd6438aa8"
      },
      "outputs": [
        {
          "output_type": "execute_result",
          "data": {
            "text/plain": [
              "(torch.Size([3]), torch.float32, device(type='cpu'))"
            ]
          },
          "metadata": {},
          "execution_count": 2
        }
      ],
      "source": [
        "float_32_tensor = torch.tensor([3.0,4.0,5],\n",
        "                               dtype = None,\n",
        "                               device = None,\n",
        "                               requires_grad = False)\n",
        "float_32_tensor.shape, float_32_tensor.dtype, float_32_tensor.device\n"
      ]
    },
    {
      "cell_type": "markdown",
      "source": [
        "####\"what shape are my tensors? what datatype are they and where are they stored? what shape, what datatype, where where where\""
      ],
      "metadata": {
        "id": "sIQxaKuG1A1u"
      }
    },
    {
      "cell_type": "code",
      "source": [
        "some_tensor = torch.rand(3,4)\n",
        "print(some_tensor)\n",
        "print(f\"Shape of tensor : {some_tensor.shape} \")\n",
        "print(f\"Datatype of tensor : {some_tensor.dtype}\")\n",
        "print(f\"Device on tensor is stored : {some_tensor.device}\")"
      ],
      "metadata": {
        "colab": {
          "base_uri": "https://localhost:8080/"
        },
        "id": "9qEIZBH40a5y",
        "outputId": "37513b68-430a-4bed-f732-19bfba933d99"
      },
      "execution_count": 6,
      "outputs": [
        {
          "output_type": "stream",
          "name": "stdout",
          "text": [
            "tensor([[0.9671, 0.0070, 0.7794, 0.1796],\n",
            "        [0.2146, 0.5514, 0.7109, 0.4617],\n",
            "        [0.9377, 0.6550, 0.9472, 0.8909]])\n",
            "Shape of tensor : torch.Size([3, 4]) \n",
            "Datatype of tensor : torch.float32\n",
            "Device on tensor is stored : cpu\n"
          ]
        }
      ]
    }
  ]
}