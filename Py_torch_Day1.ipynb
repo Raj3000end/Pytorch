{
  "nbformat": 4,
  "nbformat_minor": 0,
  "metadata": {
    "colab": {
      "provenance": [],
      "authorship_tag": "ABX9TyOIbhU3t9Ls5w41h3GIbSX5",
      "include_colab_link": true
    },
    "kernelspec": {
      "name": "python3",
      "display_name": "Python 3"
    },
    "language_info": {
      "name": "python"
    }
  },
  "cells": [
    {
      "cell_type": "markdown",
      "metadata": {
        "id": "view-in-github",
        "colab_type": "text"
      },
      "source": [
        "<a href=\"https://colab.research.google.com/github/Raj3000end/Pytorch/blob/main/Py_torch_Day1.ipynb\" target=\"_parent\"><img src=\"https://colab.research.google.com/assets/colab-badge.svg\" alt=\"Open In Colab\"/></a>"
      ]
    },
    {
      "cell_type": "code",
      "execution_count": null,
      "metadata": {
        "colab": {
          "base_uri": "https://localhost:8080/",
          "height": 35
        },
        "id": "pjkK1w7W9JaM",
        "outputId": "45f6b3fc-cfd4-4a07-f0a5-4e1674abdaa2"
      },
      "outputs": [
        {
          "output_type": "execute_result",
          "data": {
            "text/plain": [
              "'2.1.0+cu118'"
            ],
            "application/vnd.google.colaboratory.intrinsic+json": {
              "type": "string"
            }
          },
          "metadata": {},
          "execution_count": 2
        }
      ],
      "source": [
        "import torch\n",
        "torch.__version__"
      ]
    },
    {
      "cell_type": "code",
      "source": [
        "scalar = torch.tensor(7)\n",
        "scalar\n",
        "#scalar.ndim - ouput 0\n"
      ],
      "metadata": {
        "colab": {
          "base_uri": "https://localhost:8080/"
        },
        "id": "bkAdbr7UAa8E",
        "outputId": "5baf1f4c-14b5-4294-9e85-ee86c73a1f59"
      },
      "execution_count": null,
      "outputs": [
        {
          "output_type": "execute_result",
          "data": {
            "text/plain": [
              "7"
            ]
          },
          "metadata": {},
          "execution_count": 17
        }
      ]
    },
    {
      "cell_type": "code",
      "source": [
        "scalar.item()"
      ],
      "metadata": {
        "colab": {
          "base_uri": "https://localhost:8080/"
        },
        "id": "d0ZD6aH0Cn5Y",
        "outputId": "1a198c33-fcd0-4244-cf9e-42941dc22b9e"
      },
      "execution_count": null,
      "outputs": [
        {
          "output_type": "execute_result",
          "data": {
            "text/plain": [
              "14"
            ]
          },
          "metadata": {},
          "execution_count": 19
        }
      ]
    },
    {
      "cell_type": "code",
      "source": [
        "vector = torch.tensor([2,3])\n",
        "vector"
      ],
      "metadata": {
        "colab": {
          "base_uri": "https://localhost:8080/"
        },
        "id": "ueu6rxq1Ap48",
        "outputId": "249d5317-3b80-46e5-aad3-04c92b8eba44"
      },
      "execution_count": null,
      "outputs": [
        {
          "output_type": "execute_result",
          "data": {
            "text/plain": [
              "tensor([2, 3])"
            ]
          },
          "metadata": {},
          "execution_count": 21
        }
      ]
    },
    {
      "cell_type": "code",
      "source": [
        "vector.shape"
      ],
      "metadata": {
        "colab": {
          "base_uri": "https://localhost:8080/"
        },
        "id": "7AH7-0NoQGkW",
        "outputId": "d589273f-d70d-44f1-86ee-20f794bc9303"
      },
      "execution_count": null,
      "outputs": [
        {
          "output_type": "execute_result",
          "data": {
            "text/plain": [
              "torch.Size([2])"
            ]
          },
          "metadata": {},
          "execution_count": 45
        }
      ]
    },
    {
      "cell_type": "code",
      "source": [],
      "metadata": {
        "id": "4skzwl-qQwjb"
      },
      "execution_count": null,
      "outputs": []
    },
    {
      "cell_type": "code",
      "source": [
        "vector.ndim"
      ],
      "metadata": {
        "colab": {
          "base_uri": "https://localhost:8080/"
        },
        "id": "oyGYSIsmCaHr",
        "outputId": "2601f812-50e2-40aa-a2a9-87c846a8e7fa"
      },
      "execution_count": null,
      "outputs": [
        {
          "output_type": "execute_result",
          "data": {
            "text/plain": [
              "1"
            ]
          },
          "metadata": {},
          "execution_count": 16
        }
      ]
    },
    {
      "cell_type": "code",
      "source": [
        "vector2 = torch.tensor([[2,3,5]])\n",
        "vector2"
      ],
      "metadata": {
        "colab": {
          "base_uri": "https://localhost:8080/"
        },
        "id": "ca1w2PWiEp6A",
        "outputId": "c6d5f9f1-c6cf-441c-ff0c-336d9bec9dfe"
      },
      "execution_count": null,
      "outputs": [
        {
          "output_type": "execute_result",
          "data": {
            "text/plain": [
              "tensor([[2, 3, 5]])"
            ]
          },
          "metadata": {},
          "execution_count": 23
        }
      ]
    },
    {
      "cell_type": "code",
      "source": [
        "vector2.ndim"
      ],
      "metadata": {
        "colab": {
          "base_uri": "https://localhost:8080/"
        },
        "id": "RRvGP0j_HQ0p",
        "outputId": "b1d5a10f-7119-403f-ff44-e37d852a6b96"
      },
      "execution_count": null,
      "outputs": [
        {
          "output_type": "execute_result",
          "data": {
            "text/plain": [
              "2"
            ]
          },
          "metadata": {},
          "execution_count": 24
        }
      ]
    },
    {
      "cell_type": "code",
      "source": [
        "vector.shape\n",
        "\n"
      ],
      "metadata": {
        "colab": {
          "base_uri": "https://localhost:8080/"
        },
        "id": "IGhRWtMoHUB4",
        "outputId": "4e47026c-95a7-47d7-a934-7000f0ecd8a8"
      },
      "execution_count": null,
      "outputs": [
        {
          "output_type": "execute_result",
          "data": {
            "text/plain": [
              "torch.Size([2])"
            ]
          },
          "metadata": {},
          "execution_count": 28
        }
      ]
    },
    {
      "cell_type": "code",
      "source": [
        "vector2.shape"
      ],
      "metadata": {
        "colab": {
          "base_uri": "https://localhost:8080/"
        },
        "id": "uKuKOqRWIRdW",
        "outputId": "c81e735d-6e49-42db-c148-85cfc3194f92"
      },
      "execution_count": null,
      "outputs": [
        {
          "output_type": "execute_result",
          "data": {
            "text/plain": [
              "torch.Size([1, 3])"
            ]
          },
          "metadata": {},
          "execution_count": 29
        }
      ]
    },
    {
      "cell_type": "code",
      "source": [
        "vector3 = torch.tensor([[[1,2,3,4,5]]])\n",
        "vector3.shape"
      ],
      "metadata": {
        "colab": {
          "base_uri": "https://localhost:8080/"
        },
        "id": "BatsY4zFITFl",
        "outputId": "2b404072-9dfb-4fc6-f921-a95e6e788f3c"
      },
      "execution_count": null,
      "outputs": [
        {
          "output_type": "execute_result",
          "data": {
            "text/plain": [
              "torch.Size([1, 1, 5])"
            ]
          },
          "metadata": {},
          "execution_count": 44
        }
      ]
    },
    {
      "cell_type": "code",
      "source": [
        "vector3.ndim\n"
      ],
      "metadata": {
        "colab": {
          "base_uri": "https://localhost:8080/"
        },
        "id": "1LlYMk1xI8ie",
        "outputId": "eccda37d-81d3-416c-b99b-e3a049cffa2d"
      },
      "execution_count": null,
      "outputs": [
        {
          "output_type": "execute_result",
          "data": {
            "text/plain": [
              "2"
            ]
          },
          "metadata": {},
          "execution_count": 38
        }
      ]
    },
    {
      "cell_type": "code",
      "source": [
        "vector4 = torch.tensor([[[1,2,3,4,5],[1,2,3,4,6],[1,2,3,4,5],[1,2,3,4,6]]])\n",
        "vector4.shape"
      ],
      "metadata": {
        "colab": {
          "base_uri": "https://localhost:8080/"
        },
        "id": "QPkNxG7UJnGK",
        "outputId": "b406936f-c58f-496a-8eb9-ad70f4aa94ce"
      },
      "execution_count": null,
      "outputs": [
        {
          "output_type": "execute_result",
          "data": {
            "text/plain": [
              "torch.Size([1, 4, 5])"
            ]
          },
          "metadata": {},
          "execution_count": 43
        }
      ]
    },
    {
      "cell_type": "code",
      "source": [
        "matrix = torch.tensor([[[[2,3,5],\n",
        "                      [1,2,8]]]])\n",
        "matrix"
      ],
      "metadata": {
        "colab": {
          "base_uri": "https://localhost:8080/"
        },
        "id": "OP6OTmYoQxuS",
        "outputId": "9983b527-7e60-4934-b149-b27ffcd30a6c"
      },
      "execution_count": null,
      "outputs": [
        {
          "output_type": "execute_result",
          "data": {
            "text/plain": [
              "tensor([[[[2, 3, 5],\n",
              "          [1, 2, 8]]]])"
            ]
          },
          "metadata": {},
          "execution_count": 57
        }
      ]
    },
    {
      "cell_type": "code",
      "source": [
        "matrix.ndim\n"
      ],
      "metadata": {
        "colab": {
          "base_uri": "https://localhost:8080/"
        },
        "id": "_pjdLC1kRDUT",
        "outputId": "5bec43a8-16cd-4adb-fa3f-7e6787e60ab7"
      },
      "execution_count": null,
      "outputs": [
        {
          "output_type": "execute_result",
          "data": {
            "text/plain": [
              "4"
            ]
          },
          "metadata": {},
          "execution_count": 58
        }
      ]
    },
    {
      "cell_type": "code",
      "source": [
        "matrix.shape"
      ],
      "metadata": {
        "colab": {
          "base_uri": "https://localhost:8080/"
        },
        "id": "JlVGbeRWRI9x",
        "outputId": "5a18788d-592b-4391-a0e0-a04b9fa46df8"
      },
      "execution_count": null,
      "outputs": [
        {
          "output_type": "execute_result",
          "data": {
            "text/plain": [
              "torch.Size([1, 1, 2, 3])"
            ]
          },
          "metadata": {},
          "execution_count": 59
        }
      ]
    },
    {
      "cell_type": "code",
      "source": [
        "random_tensor = torch.rand(size = (224,224,3))\n",
        "random_tensor, random_tensor.dtype"
      ],
      "metadata": {
        "colab": {
          "base_uri": "https://localhost:8080/"
        },
        "id": "kJYkSG26HMgi",
        "outputId": "28681492-9e28-49df-8aec-c26c3b618132"
      },
      "execution_count": null,
      "outputs": [
        {
          "output_type": "execute_result",
          "data": {
            "text/plain": [
              "(tensor([[[0.2070, 0.9154, 0.2701],\n",
              "          [0.5116, 0.7140, 0.5529],\n",
              "          [0.0899, 0.2235, 0.7803],\n",
              "          ...,\n",
              "          [0.9610, 0.2014, 0.0551],\n",
              "          [0.7362, 0.8527, 0.2270],\n",
              "          [0.0869, 0.4029, 0.4594]],\n",
              " \n",
              "         [[0.4451, 0.3106, 0.4354],\n",
              "          [0.9179, 0.5722, 0.8878],\n",
              "          [0.1057, 0.3530, 0.4488],\n",
              "          ...,\n",
              "          [0.1847, 0.6487, 0.7145],\n",
              "          [0.2586, 0.4385, 0.4844],\n",
              "          [0.0875, 0.4159, 0.7268]],\n",
              " \n",
              "         [[0.7709, 0.6136, 0.3910],\n",
              "          [0.8874, 0.5373, 0.5464],\n",
              "          [0.2965, 0.1714, 0.3197],\n",
              "          ...,\n",
              "          [0.9778, 0.8907, 0.3966],\n",
              "          [0.7958, 0.3792, 0.4089],\n",
              "          [0.7495, 0.2572, 0.6672]],\n",
              " \n",
              "         ...,\n",
              " \n",
              "         [[0.1046, 0.2591, 0.9045],\n",
              "          [0.2222, 0.7291, 0.4393],\n",
              "          [0.6927, 0.2000, 0.3305],\n",
              "          ...,\n",
              "          [0.8064, 0.2175, 0.6396],\n",
              "          [0.2905, 0.8211, 0.9043],\n",
              "          [0.4732, 0.1563, 0.5777]],\n",
              " \n",
              "         [[0.0387, 0.7269, 0.1935],\n",
              "          [0.1432, 0.4551, 0.9842],\n",
              "          [0.9435, 0.1211, 0.1410],\n",
              "          ...,\n",
              "          [0.1147, 0.7579, 0.8533],\n",
              "          [0.5007, 0.8952, 0.9088],\n",
              "          [0.0790, 0.8910, 0.6334]],\n",
              " \n",
              "         [[0.1486, 0.9372, 0.1971],\n",
              "          [0.7283, 0.2286, 0.7009],\n",
              "          [0.1593, 0.7893, 0.6186],\n",
              "          ...,\n",
              "          [0.7037, 0.4077, 0.2366],\n",
              "          [0.8466, 0.9138, 0.1879],\n",
              "          [0.0514, 0.7718, 0.2613]]]),\n",
              " torch.float32)"
            ]
          },
          "metadata": {},
          "execution_count": 69
        }
      ]
    },
    {
      "cell_type": "code",
      "source": [
        "random_tensor.shape, random_tensor.ndim"
      ],
      "metadata": {
        "colab": {
          "base_uri": "https://localhost:8080/"
        },
        "id": "_s8VTxkXH3tc",
        "outputId": "84a9d186-015c-4595-f8c9-16c03464c889"
      },
      "execution_count": null,
      "outputs": [
        {
          "output_type": "execute_result",
          "data": {
            "text/plain": [
              "(torch.Size([224, 224, 3]), 3)"
            ]
          },
          "metadata": {},
          "execution_count": 70
        }
      ]
    },
    {
      "cell_type": "code",
      "source": [
        "rand_ten = torch.rand(size = (3,4))\n",
        "rand_ten.shape, rand_ten.dtype"
      ],
      "metadata": {
        "colab": {
          "base_uri": "https://localhost:8080/"
        },
        "id": "CZ-pNFMuIW2k",
        "outputId": "de22dede-8fb8-4959-d7cf-e7bdd786d876"
      },
      "execution_count": null,
      "outputs": [
        {
          "output_type": "execute_result",
          "data": {
            "text/plain": [
              "(torch.Size([3, 4]), torch.float32)"
            ]
          },
          "metadata": {},
          "execution_count": 72
        }
      ]
    },
    {
      "cell_type": "code",
      "source": [
        "torch.zeros(2,2)"
      ],
      "metadata": {
        "colab": {
          "base_uri": "https://localhost:8080/"
        },
        "id": "DIrKtwYAGnbX",
        "outputId": "101bc71b-a69b-4aac-eb66-11c3e34d7b22"
      },
      "execution_count": null,
      "outputs": [
        {
          "output_type": "execute_result",
          "data": {
            "text/plain": [
              "tensor([[0., 0.],\n",
              "        [0., 0.]])"
            ]
          },
          "metadata": {},
          "execution_count": 4
        }
      ]
    },
    {
      "cell_type": "code",
      "source": [
        "zeros_new = torch.zeros(size = (3,4))\n",
        "zeros_new.shape, zeros_new.ndim, zeros_new.dtype"
      ],
      "metadata": {
        "colab": {
          "base_uri": "https://localhost:8080/"
        },
        "id": "NOK2ldvGG99s",
        "outputId": "ede0d1bb-6fb5-494c-9271-710ff5236a87"
      },
      "execution_count": null,
      "outputs": [
        {
          "output_type": "execute_result",
          "data": {
            "text/plain": [
              "(torch.Size([3, 4]), 2, torch.float32)"
            ]
          },
          "metadata": {},
          "execution_count": 7
        }
      ]
    },
    {
      "cell_type": "code",
      "source": [
        "new_range = torch.arange(start = 0, end = 10, step = 1)\n",
        "new_range"
      ],
      "metadata": {
        "colab": {
          "base_uri": "https://localhost:8080/"
        },
        "id": "TX2zG75cIqSP",
        "outputId": "708bad56-a52d-4017-8a39-6e19571016a3"
      },
      "execution_count": null,
      "outputs": [
        {
          "output_type": "execute_result",
          "data": {
            "text/plain": [
              "tensor([0, 1, 2, 3, 4, 5, 6, 7, 8, 9])"
            ]
          },
          "metadata": {},
          "execution_count": 8
        }
      ]
    },
    {
      "cell_type": "code",
      "source": [
        "ten_zeros = torch.zeros_like(input = new_range)\n",
        "ten_ones = torch.ones_like(input = new_range)\n",
        "print(ten_zeros)\n",
        "ten_ones"
      ],
      "metadata": {
        "colab": {
          "base_uri": "https://localhost:8080/"
        },
        "id": "rHkI-0c_JCSf",
        "outputId": "2cdc29c3-7667-4266-c317-d91b9c9724ad"
      },
      "execution_count": null,
      "outputs": [
        {
          "output_type": "stream",
          "name": "stdout",
          "text": [
            "tensor([0, 0, 0, 0, 0, 0, 0, 0, 0, 0])\n"
          ]
        },
        {
          "output_type": "execute_result",
          "data": {
            "text/plain": [
              "tensor([1, 1, 1, 1, 1, 1, 1, 1, 1, 1])"
            ]
          },
          "metadata": {},
          "execution_count": 12
        }
      ]
    },
    {
      "cell_type": "code",
      "source": [
        "git remote add origin https://github.com/Raj3000end/Pytorch.git\n",
        "git branch -M main\n",
        "git push -u origin main"
      ],
      "metadata": {
        "id": "0wfn0-p8Py79",
        "outputId": "ac10f2ad-d2cb-4657-c5fd-fbbabeee2221",
        "colab": {
          "base_uri": "https://localhost:8080/",
          "height": 141
        }
      },
      "execution_count": null,
      "outputs": [
        {
          "output_type": "error",
          "ename": "SyntaxError",
          "evalue": "ignored",
          "traceback": [
            "\u001b[0;36m  File \u001b[0;32m\"<ipython-input-1-6a5c381a2e84>\"\u001b[0;36m, line \u001b[0;32m1\u001b[0m\n\u001b[0;31m    git remote add origin https://github.com/Raj3000end/Pytorch.git\u001b[0m\n\u001b[0m        ^\u001b[0m\n\u001b[0;31mSyntaxError\u001b[0m\u001b[0;31m:\u001b[0m invalid syntax\n"
          ]
        }
      ]
    }
  ]
}